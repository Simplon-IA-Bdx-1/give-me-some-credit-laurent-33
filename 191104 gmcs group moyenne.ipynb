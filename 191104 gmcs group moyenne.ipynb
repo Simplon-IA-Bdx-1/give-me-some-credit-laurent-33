{
 "cells": [
  {
   "cell_type": "code",
   "execution_count": 2,
   "metadata": {},
   "outputs": [],
   "source": [
    "from joblib import dump, load\n",
    "from pandas import DataFrame, read_csv\n",
    "import matplotlib\n",
    "import matplotlib.pyplot as plt\n",
    "%matplotlib inline\n",
    "from bigml.api import BigML\n",
    "api = BigML(project=\"project/5dc0232e1efc927c130037fe\")"
   ]
  },
  {
   "cell_type": "code",
   "execution_count": 4,
   "metadata": {},
   "outputs": [],
   "source": [
    "source_train = api.create_source('https://oml-data.s3.amazonaws.com/kaggle-give-me-credit-train.csv')"
   ]
  },
  {
   "cell_type": "code",
   "execution_count": 9,
   "metadata": {},
   "outputs": [],
   "source": [
    "# On crée un dataset à partir de la source puis on split (Val et Test)\n",
    "\n",
    "train_full = api.create_dataset(source_train, {\"name\": \"Train Full\"})\n",
    "val_set = api.create_dataset(train_full, {\"name\": \"Val_set\", \"sample_rate\": 0.8, \"seed\": \"my seed\"})\n",
    "test_set = api.create_dataset(train_full, {\"name\": \"Test_set\", \"sample_rate\": 0.8 , \"seed\": \"my seed\", \"out_of_bag\": True})"
   ]
  },
  {
   "cell_type": "code",
   "execution_count": 10,
   "metadata": {},
   "outputs": [
    {
     "name": "stdout",
     "output_type": "stream",
     "text": [
      "[10, 20, 30, 40, 50, 60, 70, 80, 90, 100]\n",
      "[0.83111, 0.84304, 0.84761, 0.85056, 0.85382, 0.85311, 0.85428, 0.85373, 0.85395, 0.85574]\n",
      "[10, 20, 30, 40, 50, 60, 70, 80, 90, 100]\n",
      "[0.83111, 0.84304, 0.84761, 0.85056, 0.85382, 0.85311, 0.85428, 0.85373, 0.85395, 0.85574]\n"
     ]
    }
   ],
   "source": [
    "# creation des listes vides pour contenir l'abscisse (taille du dataset) et l'ordonnée (AUC) pour le modele ensemble et deepnet\n",
    "\n",
    "x_ensemble = []\n",
    "y_ensemble = []\n",
    "x_deepnet = []\n",
    "y_deepnet = []\n",
    "\n",
    "for i in range(1,11): # On fait une boucle pour faire varier de 10 à 100 % de lignes du dataset Val_set\n",
    "   \n",
    "    # On crée le nouveau dataset de train à partir du dataset de train initial\n",
    "    train_set = api.create_dataset(val_set, {\"name\": \"Train Set \" + str(i/10), \"sample_rate\": i/10, \"seed\": \"my seed\"})\n",
    "    api.ok(val_set)   \n",
    "   \n",
    "    # On crée le modèle (ensemble) à partir du train_set\n",
    "    ensemble = api.create_ensemble(train_set, {\"objective_field\" : \"SeriousDlqin2yrs\", \"name\": \"Ensemble \" + str(i/10)})\n",
    "    api.ok(ensemble)\n",
    "   \n",
    "    # On évalue le modèle ensemble (avec le test_set)\n",
    "    evaluation = api.create_evaluation(ensemble, test_set)\n",
    "    api.ok(evaluation)\n",
    "   \n",
    "    # On crée le modèle (deepnet) à partir du train_set\n",
    "    deepnet = api.create_deepnet(train_set, {\"objective_field\" : \"SeriousDlqin2yrs\", \"name\": \"Deepnet \" + str(i/10)})\n",
    "    api.ok(deepnet)\n",
    "   \n",
    "    # On évalue le modèle deepnet (avec le test_set)\n",
    "    evaluation_deepnet = api.create_evaluation(deepnet, test_set)\n",
    "    api.ok(evaluation_deepnet)\n",
    "\n",
    "    # On stocke dans une liste la valeur de l'axe des abscisses (graph_x) et la valeur de l'AUC (graph_y) à partir de la donnée BigML\n",
    "    x_ensemble.append(i*10)\n",
    "    y_ensemble.append(evaluation['object']['result']['model']['per_class_statistics'][1]['area_under_roc_curve'])\n",
    "    \n",
    "    x_deepnet.append(i*10)\n",
    "    y_deepnet.append(evaluation_deepnet['object']['result']['model']['per_class_statistics'][1]['area_under_roc_curve'])\n",
    "    \n",
    "    # On itere de 1 le compteur i et on recommence la boucle\n",
    "    i += 1"
   ]
  },
  {
   "cell_type": "code",
   "execution_count": 56,
   "metadata": {},
   "outputs": [
    {
     "name": "stdout",
     "output_type": "stream",
     "text": [
      "[10, 20, 30, 40, 50, 60, 70, 80, 90, 100]\n",
      "[0.83111, 0.84304, 0.84761, 0.85056, 0.85382, 0.85311, 0.85428, 0.85373, 0.85395, 0.85574]\n",
      "[10, 20, 30, 40, 50, 60, 70, 80, 90, 100]\n",
      "[0.8184, 0.82239, 0.83516, 0.82896, 0.83169, 0.82009, 0.82913, 0.8263, 0.83729, 0.83564]\n"
     ]
    }
   ],
   "source": [
    "# On imprime les resultats\n",
    "    \n",
    "print(x_ensemble)\n",
    "print(y_ensemble)\n",
    "print(x_deepnet)\n",
    "print(y_deepnet) "
   ]
  },
  {
   "cell_type": "code",
   "execution_count": 20,
   "metadata": {},
   "outputs": [
    {
     "data": {
      "text/plain": [
       "['eval_laurent.joblib']"
      ]
     },
     "execution_count": 20,
     "metadata": {},
     "output_type": "execute_result"
    }
   ],
   "source": [
    "eval_laurent = [x_ensemble, y_ensemble, y_deepnet]\n",
    "dump(eval_laurent, 'eval_laurent.joblib')"
   ]
  },
  {
   "cell_type": "code",
   "execution_count": 6,
   "metadata": {},
   "outputs": [],
   "source": [
    "eval_christophe = load('eval_christophe.joblib')\n",
    "eval_maxime = load('eval_maxime.joblib')\n",
    "eval_maud = load('eval_maud.joblib')\n",
    "eval_laurent = load('eval_laurent.joblib')"
   ]
  },
  {
   "cell_type": "code",
   "execution_count": 24,
   "metadata": {},
   "outputs": [
    {
     "data": {
      "image/png": "[encoded data removed]",
      "text/plain": [
       "<Figure size 432x288 with 1 Axes>"
      ]
     },
     "metadata": {
      "needs_background": "light"
     },
     "output_type": "display_data"
    }
   ],
   "source": [
    "ensemble_moyenne = (DataFrame(eval_christophe[1]) + DataFrame(eval_maxime[1]) + DataFrame(eval_laurent[1]) + DataFrame(eval_maud[1]))/4\n",
    "deepnet_moyenne = (DataFrame(eval_christophe[2]) + DataFrame(eval_maxime[2]) + DataFrame(eval_laurent[2]) + DataFrame(eval_maud[2]))/4\n",
    "ax = plt.subplot()\n",
    "ensemble_moyenne.plot(ax=ax, label='ensemble')\n",
    "deepnet_moyenne.plot(ax=ax, label='deepnet');"
   ]
  },
  {
   "cell_type": "code",
   "execution_count": null,
   "metadata": {},
   "outputs": [],
   "source": []
  },
  {
   "cell_type": "code",
   "execution_count": 25,
   "metadata": {},
   "outputs": [
    {
     "name": "stdout",
     "output_type": "stream",
     "text": [
      "[0.82511, 0.8343575, 0.8424499999999999, 0.840055, 0.8420225, 0.8367025, 0.8414275000000001, 0.8406875, 0.8459074999999999, 0.8449650000000001]\n"
     ]
    }
   ],
   "source": [
    "x_ensemble = []\n",
    "y_ensemble = []\n",
    "y_deepnet = []\n",
    "y_ensemble_mean = []\n",
    "y_deepnet_mean = []\n",
    "\n",
    "for i in range(10): \n",
    "    y_ensemble = (eval_christophe[1][i] + eval_maxime[1][i] + eval_laurent[1][i] + eval_maud[1][i])/4\n",
    "    y_deepnet = (eval_christophe[2][i] + eval_maxime[2][i] + eval_laurent[2][i] + eval_maud[2][i])/4\n",
    "    y_ensemble_mean.append(y_ensemble)\n",
    "    y_deepnet_mean.append(y_deepnet)\n",
    "    \n",
    "print(y_deepnet_mean)"
   ]
  },
  {
   "cell_type": "code",
   "execution_count": null,
   "metadata": {},
   "outputs": [],
   "source": []
  }
 ],
 "metadata": {
  "kernelspec": {
   "display_name": "Python 3",
   "language": "python",
   "name": "python3"
  },
  "language_info": {
   "codemirror_mode": {
    "name": "ipython",
    "version": 3
   },
   "file_extension": ".py",
   "mimetype": "text/x-python",
   "name": "python",
   "nbconvert_exporter": "python",
   "pygments_lexer": "ipython3",
   "version": "3.7.4"
  }
 },
 "nbformat": 4,
 "nbformat_minor": 2
}
