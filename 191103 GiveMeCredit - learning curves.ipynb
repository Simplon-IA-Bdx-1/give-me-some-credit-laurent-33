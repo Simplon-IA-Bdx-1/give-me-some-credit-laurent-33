{
 "cells": [
  {
   "cell_type": "code",
   "execution_count": 1,
   "metadata": {},
   "outputs": [],
   "source": [
    "from pandas import DataFrame, read_csv, Series\n",
    "import matplotlib\n",
    "import matplotlib.pyplot as plt\n",
    "%matplotlib inline\n",
    "from bigml.api import BigML\n",
    "api = BigML(project=\"project/5d94a42042129f2b0500005c\")"
   ]
  },
  {
   "cell_type": "markdown",
   "metadata": {},
   "source": [
    "# Récupération du trainfull modifié (avec features modifiées) + randomization des données"
   ]
  },
  {
   "cell_type": "code",
   "execution_count": 2,
   "metadata": {},
   "outputs": [
    {
     "data": {
      "text/html": [
       "<div>\n",
       "<style scoped>\n",
       "    .dataframe tbody tr th:only-of-type {\n",
       "        vertical-align: middle;\n",
       "    }\n",
       "\n",
       "    .dataframe tbody tr th {\n",
       "        vertical-align: top;\n",
       "    }\n",
       "\n",
       "    .dataframe thead th {\n",
       "        text-align: right;\n",
       "    }\n",
       "</style>\n",
       "<table border=\"1\" class=\"dataframe\">\n",
       "  <thead>\n",
       "    <tr style=\"text-align: right;\">\n",
       "      <th></th>\n",
       "      <th>Unnamed: 0</th>\n",
       "      <th>Unnamed: 0.1</th>\n",
       "      <th>SeriousDlqin2yrs</th>\n",
       "      <th>RevolvingUtilizationOfUnsecuredLines</th>\n",
       "      <th>age</th>\n",
       "      <th>NumberOfTime30-59DaysPastDueNotWorse</th>\n",
       "      <th>DebtRatio</th>\n",
       "      <th>MonthlyIncome</th>\n",
       "      <th>NumberOfOpenCreditLinesAndLoans</th>\n",
       "      <th>NumberOfTimes90DaysLate</th>\n",
       "      <th>NumberRealEstateLoansOrLines</th>\n",
       "      <th>NumberOfTime60-89DaysPastDueNotWorse</th>\n",
       "      <th>NumberOfDependents</th>\n",
       "      <th>MonthlyIncome_sansna</th>\n",
       "      <th>Sum</th>\n",
       "      <th>IncomePerPerson</th>\n",
       "    </tr>\n",
       "  </thead>\n",
       "  <tbody>\n",
       "    <tr>\n",
       "      <td>128037</td>\n",
       "      <td>128037</td>\n",
       "      <td>128038</td>\n",
       "      <td>0</td>\n",
       "      <td>0.204151</td>\n",
       "      <td>53</td>\n",
       "      <td>0</td>\n",
       "      <td>0.436564</td>\n",
       "      <td>4271.0</td>\n",
       "      <td>7</td>\n",
       "      <td>0</td>\n",
       "      <td>1</td>\n",
       "      <td>1</td>\n",
       "      <td>0.0</td>\n",
       "      <td>4271.0</td>\n",
       "      <td>1</td>\n",
       "      <td>4271.000000</td>\n",
       "    </tr>\n",
       "    <tr>\n",
       "      <td>5192</td>\n",
       "      <td>5192</td>\n",
       "      <td>5193</td>\n",
       "      <td>0</td>\n",
       "      <td>0.441020</td>\n",
       "      <td>51</td>\n",
       "      <td>1</td>\n",
       "      <td>0.512074</td>\n",
       "      <td>6666.0</td>\n",
       "      <td>16</td>\n",
       "      <td>0</td>\n",
       "      <td>2</td>\n",
       "      <td>0</td>\n",
       "      <td>2.0</td>\n",
       "      <td>6666.0</td>\n",
       "      <td>1</td>\n",
       "      <td>2222.000000</td>\n",
       "    </tr>\n",
       "    <tr>\n",
       "      <td>50057</td>\n",
       "      <td>50057</td>\n",
       "      <td>50058</td>\n",
       "      <td>0</td>\n",
       "      <td>0.000000</td>\n",
       "      <td>42</td>\n",
       "      <td>0</td>\n",
       "      <td>0.347464</td>\n",
       "      <td>9600.0</td>\n",
       "      <td>8</td>\n",
       "      <td>0</td>\n",
       "      <td>2</td>\n",
       "      <td>0</td>\n",
       "      <td>2.0</td>\n",
       "      <td>9600.0</td>\n",
       "      <td>0</td>\n",
       "      <td>3200.000000</td>\n",
       "    </tr>\n",
       "    <tr>\n",
       "      <td>109259</td>\n",
       "      <td>109259</td>\n",
       "      <td>109260</td>\n",
       "      <td>0</td>\n",
       "      <td>0.196150</td>\n",
       "      <td>40</td>\n",
       "      <td>0</td>\n",
       "      <td>0.312737</td>\n",
       "      <td>5000.0</td>\n",
       "      <td>10</td>\n",
       "      <td>0</td>\n",
       "      <td>1</td>\n",
       "      <td>0</td>\n",
       "      <td>2.0</td>\n",
       "      <td>5000.0</td>\n",
       "      <td>0</td>\n",
       "      <td>1666.666667</td>\n",
       "    </tr>\n",
       "    <tr>\n",
       "      <td>73349</td>\n",
       "      <td>73349</td>\n",
       "      <td>73350</td>\n",
       "      <td>0</td>\n",
       "      <td>0.144183</td>\n",
       "      <td>56</td>\n",
       "      <td>0</td>\n",
       "      <td>2362.000000</td>\n",
       "      <td>NaN</td>\n",
       "      <td>5</td>\n",
       "      <td>0</td>\n",
       "      <td>1</td>\n",
       "      <td>0</td>\n",
       "      <td>1.0</td>\n",
       "      <td>0.0</td>\n",
       "      <td>0</td>\n",
       "      <td>NaN</td>\n",
       "    </tr>\n",
       "  </tbody>\n",
       "</table>\n",
       "</div>"
      ],
      "text/plain": [
       "        Unnamed: 0  Unnamed: 0.1  SeriousDlqin2yrs  \\\n",
       "128037      128037        128038                 0   \n",
       "5192          5192          5193                 0   \n",
       "50057        50057         50058                 0   \n",
       "109259      109259        109260                 0   \n",
       "73349        73349         73350                 0   \n",
       "\n",
       "        RevolvingUtilizationOfUnsecuredLines  age  \\\n",
       "128037                              0.204151   53   \n",
       "5192                                0.441020   51   \n",
       "50057                               0.000000   42   \n",
       "109259                              0.196150   40   \n",
       "73349                               0.144183   56   \n",
       "\n",
       "        NumberOfTime30-59DaysPastDueNotWorse    DebtRatio  MonthlyIncome  \\\n",
       "128037                                     0     0.436564         4271.0   \n",
       "5192                                       1     0.512074         6666.0   \n",
       "50057                                      0     0.347464         9600.0   \n",
       "109259                                     0     0.312737         5000.0   \n",
       "73349                                      0  2362.000000            NaN   \n",
       "\n",
       "        NumberOfOpenCreditLinesAndLoans  NumberOfTimes90DaysLate  \\\n",
       "128037                                7                        0   \n",
       "5192                                 16                        0   \n",
       "50057                                 8                        0   \n",
       "109259                               10                        0   \n",
       "73349                                 5                        0   \n",
       "\n",
       "        NumberRealEstateLoansOrLines  NumberOfTime60-89DaysPastDueNotWorse  \\\n",
       "128037                             1                                     1   \n",
       "5192                               2                                     0   \n",
       "50057                              2                                     0   \n",
       "109259                             1                                     0   \n",
       "73349                              1                                     0   \n",
       "\n",
       "        NumberOfDependents  MonthlyIncome_sansna  Sum  IncomePerPerson  \n",
       "128037                 0.0                4271.0    1      4271.000000  \n",
       "5192                   2.0                6666.0    1      2222.000000  \n",
       "50057                  2.0                9600.0    0      3200.000000  \n",
       "109259                 2.0                5000.0    0      1666.666667  \n",
       "73349                  1.0                   0.0    0              NaN  "
      ]
     },
     "execution_count": 2,
     "metadata": {},
     "output_type": "execute_result"
    }
   ],
   "source": [
    "df = read_csv('fulltrain_mod.csv').sample(frac=1, replace=True, random_state=1)\n",
    "df.head()"
   ]
  },
  {
   "cell_type": "markdown",
   "metadata": {},
   "source": [
    "# Création du validation set (derniers 20% du trainfull)"
   ]
  },
  {
   "cell_type": "code",
   "execution_count": 22,
   "metadata": {},
   "outputs": [],
   "source": [
    "df[-int(len(df)*20/100):].to_csv(\"191103 learning-curves_val.csv\")"
   ]
  },
  {
   "cell_type": "markdown",
   "metadata": {},
   "source": [
    "# Création du train (premiers 80% du trainfull)"
   ]
  },
  {
   "cell_type": "code",
   "execution_count": 23,
   "metadata": {},
   "outputs": [],
   "source": [
    "df_train = df[:-int(len(df)*20/100)]"
   ]
  },
  {
   "cell_type": "markdown",
   "metadata": {},
   "source": [
    "# Création de train set de différentes tailles pour tracer la learning curve"
   ]
  },
  {
   "cell_type": "code",
   "execution_count": 24,
   "metadata": {},
   "outputs": [],
   "source": [
    "df_train[:int(len(df_train)*10/100)].to_csv(\"191103 learning-curves_train10.csv\")\n",
    "df_train[:int(len(df_train)*20/100)].to_csv(\"191103 learning-curves_train20.csv\")\n",
    "df_train[:int(len(df_train)*40/100)].to_csv(\"191103 learning-curves_train40.csv\")\n",
    "df_train[:int(len(df_train)*80/100)].to_csv(\"191103 learning-curves_train80.csv\")\n",
    "df_train.to_csv(\"191103 learning-curves_train.csv\")"
   ]
  },
  {
   "cell_type": "markdown",
   "metadata": {},
   "source": [
    "# Importation des sets"
   ]
  },
  {
   "cell_type": "code",
   "execution_count": 27,
   "metadata": {},
   "outputs": [],
   "source": [
    "val_source = api.create_source('191103 learning-curves_val.csv', {\"name\": \"191103 learning-curves_val\", \"source_parser\": {\"missing_tokens\": [\"NULL\"]}})\n",
    "train_source = api.create_source('191103 learning-curves_train.csv', {\"name\": \"191103 learning-curves_train\", \"source_parser\": {\"missing_tokens\": [\"NULL\"]}})\n",
    "train10_source = api.create_source('191103 learning-curves_train10.csv', {\"name\": \"191103 learning-curves_train10\", \"source_parser\": {\"missing_tokens\": [\"NULL\"]}})\n",
    "train20_source = api.create_source('191103 learning-curves_train20.csv', {\"name\": \"191103 learning-curves_train20\", \"source_parser\": {\"missing_tokens\": [\"NULL\"]}})\n",
    "train40_source = api.create_source('191103 learning-curves_train40.csv', {\"name\": \"191103 learning-curves_train40\", \"source_parser\": {\"missing_tokens\": [\"NULL\"]}})\n",
    "train80_source = api.create_source('191103 learning-curves_train80.csv', {\"name\": \"191103 learning-curves_train80\", \"source_parser\": {\"missing_tokens\": [\"NULL\"]}})"
   ]
  },
  {
   "cell_type": "markdown",
   "metadata": {},
   "source": [
    "# Création des datasets"
   ]
  },
  {
   "cell_type": "code",
   "execution_count": 29,
   "metadata": {},
   "outputs": [
    {
     "data": {
      "text/plain": [
       "True"
      ]
     },
     "execution_count": 29,
     "metadata": {},
     "output_type": "execute_result"
    }
   ],
   "source": [
    "val_dataset = api.create_dataset(val_source, {\"name\": \"191103 learning-curves_val\"})\n",
    "train_dataset = api.create_dataset(train_source, {\"name\": \"191103 learning-curves_train\"})\n",
    "api.ok(val_dataset)\n",
    "api.ok(train_dataset)\n",
    "train10_dataset = api.create_dataset(train10_source, {\"name\": \"191103 learning-curves_train10\"})\n",
    "train20_dataset = api.create_dataset(train20_source, {\"name\": \"191103 learning-curves_train20\"})\n",
    "api.ok(train10_dataset)\n",
    "api.ok(train20_dataset)\n",
    "train40_dataset = api.create_dataset(train40_source, {\"name\": \"191103 learning-curves_train40\"})\n",
    "train80_dataset = api.create_dataset(train80_source, {\"name\": \"191103 learning-curves_train80\"})\n",
    "api.ok(train40_dataset)\n",
    "api.ok(train80_dataset);"
   ]
  },
  {
   "cell_type": "markdown",
   "metadata": {},
   "source": [
    "# Création des modèles pour les différentes tailles de train"
   ]
  },
  {
   "cell_type": "code",
   "execution_count": 30,
   "metadata": {},
   "outputs": [],
   "source": [
    "model = api.create_ensemble(train_dataset, {\"objective_field\": \"SeriousDlqin2yrs\"})\n",
    "model10 = api.create_ensemble(train10_dataset, {\"objective_field\": \"SeriousDlqin2yrs\"})\n",
    "api.ok(model)\n",
    "api.ok(model10)\n",
    "model20 = api.create_ensemble(train20_dataset, {\"objective_field\": \"SeriousDlqin2yrs\"})\n",
    "model40 = api.create_ensemble(train40_dataset, {\"objective_field\": \"SeriousDlqin2yrs\"})\n",
    "api.ok(model20)\n",
    "api.ok(model40)\n",
    "model80 = api.create_ensemble(train80_dataset, {\"objective_field\": \"SeriousDlqin2yrs\"})\n",
    "api.ok(model80)\n",
    "\n",
    "model = api.get_ensemble(model)\n",
    "model10 = api.get_ensemble(model10)\n",
    "api.ok(model)\n",
    "api.ok(model10)\n",
    "model20 = api.get_ensemble(model20)\n",
    "model40 = api.get_ensemble(model40)\n",
    "api.ok(model20)\n",
    "api.ok(model40)\n",
    "model80 = api.get_ensemble(model80)"
   ]
  },
  {
   "cell_type": "markdown",
   "metadata": {},
   "source": [
    "# Evaluation des modèles"
   ]
  },
  {
   "cell_type": "code",
   "execution_count": 2,
   "metadata": {},
   "outputs": [
    {
     "ename": "NameError",
     "evalue": "name 'model' is not defined",
     "output_type": "error",
     "traceback": [
      "\u001b[0;31m---------------------------------------------------------------------------\u001b[0m",
      "\u001b[0;31mNameError\u001b[0m                                 Traceback (most recent call last)",
      "\u001b[0;32m<ipython-input-2-195ff1868187>\u001b[0m in \u001b[0;36m<module>\u001b[0;34m\u001b[0m\n\u001b[0;32m----> 1\u001b[0;31m \u001b[0mevaluation\u001b[0m \u001b[0;34m=\u001b[0m \u001b[0mapi\u001b[0m\u001b[0;34m.\u001b[0m\u001b[0mcreate_evaluation\u001b[0m\u001b[0;34m(\u001b[0m\u001b[0mmodel\u001b[0m\u001b[0;34m,\u001b[0m \u001b[0mval_dataset\u001b[0m\u001b[0;34m,\u001b[0m \u001b[0;34m{\u001b[0m\u001b[0;34m\"name\"\u001b[0m\u001b[0;34m:\u001b[0m \u001b[0;34m\"191103 learning-curves_train\"\u001b[0m\u001b[0;34m}\u001b[0m\u001b[0;34m)\u001b[0m\u001b[0;34m\u001b[0m\u001b[0;34m\u001b[0m\u001b[0m\n\u001b[0m\u001b[1;32m      2\u001b[0m \u001b[0mevaluation10\u001b[0m \u001b[0;34m=\u001b[0m \u001b[0mapi\u001b[0m\u001b[0;34m.\u001b[0m\u001b[0mcreate_evaluation\u001b[0m\u001b[0;34m(\u001b[0m\u001b[0mmodel10\u001b[0m\u001b[0;34m,\u001b[0m \u001b[0mval_dataset\u001b[0m\u001b[0;34m,\u001b[0m \u001b[0;34m{\u001b[0m\u001b[0;34m\"name\"\u001b[0m\u001b[0;34m:\u001b[0m \u001b[0;34m\"191103 learning-curves_train10\"\u001b[0m\u001b[0;34m}\u001b[0m\u001b[0;34m)\u001b[0m\u001b[0;34m\u001b[0m\u001b[0;34m\u001b[0m\u001b[0m\n\u001b[1;32m      3\u001b[0m \u001b[0mapi\u001b[0m\u001b[0;34m.\u001b[0m\u001b[0mok\u001b[0m\u001b[0;34m(\u001b[0m\u001b[0mevaluation\u001b[0m\u001b[0;34m)\u001b[0m\u001b[0;34m\u001b[0m\u001b[0;34m\u001b[0m\u001b[0m\n\u001b[1;32m      4\u001b[0m \u001b[0mapi\u001b[0m\u001b[0;34m.\u001b[0m\u001b[0mok\u001b[0m\u001b[0;34m(\u001b[0m\u001b[0mevaluation10\u001b[0m\u001b[0;34m)\u001b[0m\u001b[0;34m\u001b[0m\u001b[0;34m\u001b[0m\u001b[0m\n\u001b[1;32m      5\u001b[0m \u001b[0mevaluation20\u001b[0m \u001b[0;34m=\u001b[0m \u001b[0mapi\u001b[0m\u001b[0;34m.\u001b[0m\u001b[0mcreate_evaluation\u001b[0m\u001b[0;34m(\u001b[0m\u001b[0mmodel20\u001b[0m\u001b[0;34m,\u001b[0m \u001b[0mval_dataset\u001b[0m\u001b[0;34m,\u001b[0m \u001b[0;34m{\u001b[0m\u001b[0;34m\"name\"\u001b[0m\u001b[0;34m:\u001b[0m \u001b[0;34m\"191103 learning-curves_train20\"\u001b[0m\u001b[0;34m}\u001b[0m\u001b[0;34m)\u001b[0m\u001b[0;34m\u001b[0m\u001b[0;34m\u001b[0m\u001b[0m\n",
      "\u001b[0;31mNameError\u001b[0m: name 'model' is not defined"
     ]
    }
   ],
   "source": [
    "evaluation = api.create_evaluation(model, val_dataset, {\"name\": \"191103 learning-curves_train\"})\n",
    "evaluation10 = api.create_evaluation(model10, val_dataset, {\"name\": \"191103 learning-curves_train10\"})\n",
    "api.ok(evaluation)\n",
    "api.ok(evaluation10)\n",
    "evaluation20 = api.create_evaluation(model20, val_dataset, {\"name\": \"191103 learning-curves_train20\"})\n",
    "evaluation40 = api.create_evaluation(model40, val_dataset, {\"name\": \"191103 learning-curves_train40\"})\n",
    "api.ok(evaluation20)\n",
    "api.ok(evaluation40)\n",
    "evaluation80 = api.create_evaluation(model80, val_dataset, {\"name\": \"191103 learning-curves_train80\"})\n",
    "api.ok(evaluation80);"
   ]
  },
  {
   "cell_type": "code",
   "execution_count": 5,
   "metadata": {},
   "outputs": [],
   "source": [
    "model = api.get_ensemble(\"ensemble/5dbf113c5299631c8200fd7a\")\n",
    "model10 = api.get_ensemble(\"ensemble/5dbf113d7811dd0554001030\")\n",
    "model20 = api.get_ensemble(\"ensemble/5dbf11635299631c8200fd7d\")\n",
    "model40 = api.get_ensemble(\"ensemble/5dbf11647811dd7f2d00f3e2\")\n",
    "model80 = api.get_ensemble(\"ensemble/5dbf11777811dd7f2d00f3e5\")"
   ]
  },
  {
   "cell_type": "markdown",
   "metadata": {},
   "source": [
    "# Récupération des valeurs d'auc (performance), et tracé de la learning curve de validation"
   ]
  },
  {
   "cell_type": "code",
   "execution_count": 12,
   "metadata": {},
   "outputs": [],
   "source": [
    "auc = evaluation['object']['result']['model']['per_class_statistics'][1]['area_under_roc_curve']\n",
    "auc10 = evaluation10['object']['result']['model']['per_class_statistics'][1]['area_under_roc_curve']\n",
    "auc20 = evaluation20['object']['result']['model']['per_class_statistics'][1]['area_under_roc_curve']\n",
    "auc40 = evaluation40['object']['result']['model']['per_class_statistics'][1]['area_under_roc_curve']\n",
    "auc80 = evaluation80['object']['result']['model']['per_class_statistics'][1]['area_under_roc_curve']"
   ]
  },
  {
   "cell_type": "code",
   "execution_count": 7,
   "metadata": {},
   "outputs": [],
   "source": [
    "evaluation = api.get_evaluation(\"evaluation/5dbf11c6e476847468010728\")\n",
    "evaluation10 = api.get_evaluation(\"evaluation/5dbf11c8e47684746801072b\")\n",
    "evaluation20 = api.get_evaluation(\"evaluation/5dbf11dae47684746801072e\")\n",
    "evaluation40 = api.get_evaluation(\"evaluation/5dbf11db5299631c8200fd80\")\n",
    "evaluation80 = api.get_evaluation(\"evaluation/5dbf11ec7811dd7f2d00f3e8\")"
   ]
  },
  {
   "cell_type": "code",
   "execution_count": 19,
   "metadata": {},
   "outputs": [
    {
     "data": {
      "image/png": "[encoded data removed]",
      "text/plain": [
       "<Figure size 432x288 with 1 Axes>"
      ]
     },
     "metadata": {
      "needs_background": "light"
     },
     "output_type": "display_data"
    }
   ],
   "source": [
    "plt.plot([10, 20, 40, 80, 100], [auc10, auc20, auc40, auc80, auc], 'r*-');"
   ]
  },
  {
   "cell_type": "markdown",
   "metadata": {},
   "source": [
    "# Récupération des datasets de train"
   ]
  },
  {
   "cell_type": "code",
   "execution_count": 16,
   "metadata": {},
   "outputs": [],
   "source": [
    "train_dataset = api.get_dataset(\"dataset/5dbf10205299631c8200fd68\")\n",
    "train10_dataset = api.get_dataset(\"dataset/5dbf10657811dd7f2d00f3cd\")\n",
    "train20_dataset = api.get_dataset(\"dataset/5dbf10735299631c8200fd6e\")\n",
    "train40_dataset = api.get_dataset(\"dataset/5dbf10b57811dd7f2d00f3d6\")\n",
    "train80_dataset = api.get_dataset(\"dataset/5dbf10ce7811dd7f2d00f3d9\")"
   ]
  },
  {
   "cell_type": "markdown",
   "metadata": {},
   "source": [
    "# Création des modèles évalué sur le train (pour la training curve)"
   ]
  },
  {
   "cell_type": "code",
   "execution_count": 18,
   "metadata": {},
   "outputs": [],
   "source": [
    "evaluationtrain = api.create_evaluation(model, train_dataset, {\"name\": \"191103 learning-curves_traintrain\"})\n",
    "evaluationtrain10 = api.create_evaluation(model10, train10_dataset, {\"name\": \"191103 learning-curves_traintrain10\"})\n",
    "api.ok(evaluationtrain)\n",
    "api.ok(evaluationtrain10)\n",
    "evaluationtrain20 = api.create_evaluation(model20, train20_dataset, {\"name\": \"191103 learning-curves_traintrain20\"})\n",
    "evaluationtrain40 = api.create_evaluation(model40, train40_dataset, {\"name\": \"191103 learning-curves_traintrain40\"})\n",
    "api.ok(evaluationtrain20)\n",
    "api.ok(evaluationtrain40)\n",
    "evaluationtrain80 = api.create_evaluation(model80, train80_dataset, {\"name\": \"191103 learning-curves_traintrain80\"})\n",
    "api.ok(evaluationtrain80);"
   ]
  },
  {
   "cell_type": "markdown",
   "metadata": {},
   "source": [
    "# Récupération des valeurs d'auc et tracé de la training curve"
   ]
  },
  {
   "cell_type": "code",
   "execution_count": 20,
   "metadata": {},
   "outputs": [],
   "source": [
    "auctrain = evaluationtrain['object']['result']['model']['per_class_statistics'][1]['area_under_roc_curve']\n",
    "auctrain10 = evaluationtrain10['object']['result']['model']['per_class_statistics'][1]['area_under_roc_curve']\n",
    "auctrain20 = evaluationtrain20['object']['result']['model']['per_class_statistics'][1]['area_under_roc_curve']\n",
    "auctrain40 = evaluationtrain40['object']['result']['model']['per_class_statistics'][1]['area_under_roc_curve']\n",
    "auctrain80 = evaluationtrain80['object']['result']['model']['per_class_statistics'][1]['area_under_roc_curve']"
   ]
  },
  {
   "cell_type": "code",
   "execution_count": 21,
   "metadata": {},
   "outputs": [
    {
     "data": {
      "image/png": "[encoded data removed]",
      "text/plain": [
       "<Figure size 432x288 with 1 Axes>"
      ]
     },
     "metadata": {
      "needs_background": "light"
     },
     "output_type": "display_data"
    }
   ],
   "source": [
    "plt.plot([10, 20, 40, 80, 100], [auctrain10, auctrain20, auctrain40, auctrain80, auctrain], 'b*-');"
   ]
  },
  {
   "cell_type": "markdown",
   "metadata": {},
   "source": [
    "# Représentation graphique"
   ]
  },
  {
   "cell_type": "code",
   "execution_count": 29,
   "metadata": {},
   "outputs": [
    {
     "data": {
      "image/png": "[encoded data removed]",
      "text/plain": [
       "<Figure size 432x288 with 1 Axes>"
      ]
     },
     "metadata": {
      "needs_background": "light"
     },
     "output_type": "display_data"
    }
   ],
   "source": [
    "plt.plot([10, 20, 40, 80, 100], [auc10, auc20, auc40, auc80, auc], 'r*-', label='train performance');\n",
    "plt.plot([10, 20, 40, 80, 100], [auctrain10, auctrain20, auctrain40, auctrain80, auctrain], 'b*-', label='dev performance')\n",
    "plt.plot([0, 100], [0.86955, 0.86955], 'g-')\n",
    "plt.legend();plt.grid();"
   ]
  },
  {
   "cell_type": "code",
   "execution_count": null,
   "metadata": {},
   "outputs": [],
   "source": []
  }
 ],
 "metadata": {
  "kernelspec": {
   "display_name": "Python 3",
   "language": "python",
   "name": "python3"
  },
  "language_info": {
   "codemirror_mode": {
    "name": "ipython",
    "version": 3
   },
   "file_extension": ".py",
   "mimetype": "text/x-python",
   "name": "python",
   "nbconvert_exporter": "python",
   "pygments_lexer": "ipython3",
   "version": "3.7.4"
  },
  "toc": {
   "base_numbering": 1,
   "nav_menu": {},
   "number_sections": true,
   "sideBar": true,
   "skip_h1_title": false,
   "title_cell": "Table of Contents",
   "title_sidebar": "Contents",
   "toc_cell": false,
   "toc_position": {
    "height": "calc(100% - 180px)",
    "left": "10px",
    "top": "150px",
    "width": "221.667px"
   },
   "toc_section_display": true,
   "toc_window_display": true
  }
 },
 "nbformat": 4,
 "nbformat_minor": 2
}
