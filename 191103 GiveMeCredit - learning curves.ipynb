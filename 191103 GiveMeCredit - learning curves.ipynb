{
 "cells": [
  {
   "cell_type": "code",
   "execution_count": 15,
   "metadata": {},
   "outputs": [],
   "source": [
    "from pandas import DataFrame, read_csv, Series\n",
    "import matplotlib\n",
    "import matplotlib.pyplot as plt\n",
    "%matplotlib inline\n",
    "from bigml.api import BigML\n",
    "api = BigML(project=\"project/5d94a42042129f2b0500005c\")"
   ]
  },
  {
   "cell_type": "code",
   "execution_count": 16,
   "metadata": {},
   "outputs": [
    {
     "data": {
      "text/plain": [
       "0.85905"
      ]
     },
     "execution_count": 16,
     "metadata": {},
     "output_type": "execute_result"
    }
   ],
   "source": [
    "model = api.get_ensemble(\"ensemble/5db162ae7811dd0557000e0e\")\n",
    "train_dataset=api.get_dataset(\"dataset/5db162947811dd7f2d008724\")\n",
    "val_dataset = api.get_dataset(\"dataset/5db162955299631c82008bd0\")\n",
    "evaluation = api.get_evaluation(\"evaluation/5db162d07811dd7f2d00872a\")\n",
    "evaluation['object']['result']['model']['per_class_statistics'][0]['area_under_roc_curve']"
   ]
  },
  {
   "cell_type": "code",
   "execution_count": 21,
   "metadata": {},
   "outputs": [
    {
     "data": {
      "text/html": [
       "<div>\n",
       "<style scoped>\n",
       "    .dataframe tbody tr th:only-of-type {\n",
       "        vertical-align: middle;\n",
       "    }\n",
       "\n",
       "    .dataframe tbody tr th {\n",
       "        vertical-align: top;\n",
       "    }\n",
       "\n",
       "    .dataframe thead th {\n",
       "        text-align: right;\n",
       "    }\n",
       "</style>\n",
       "<table border=\"1\" class=\"dataframe\">\n",
       "  <thead>\n",
       "    <tr style=\"text-align: right;\">\n",
       "      <th></th>\n",
       "      <th>Unnamed: 0</th>\n",
       "      <th>Unnamed: 0.1</th>\n",
       "      <th>SeriousDlqin2yrs</th>\n",
       "      <th>RevolvingUtilizationOfUnsecuredLines</th>\n",
       "      <th>age</th>\n",
       "      <th>NumberOfTime30-59DaysPastDueNotWorse</th>\n",
       "      <th>DebtRatio</th>\n",
       "      <th>MonthlyIncome</th>\n",
       "      <th>NumberOfOpenCreditLinesAndLoans</th>\n",
       "      <th>NumberOfTimes90DaysLate</th>\n",
       "      <th>NumberRealEstateLoansOrLines</th>\n",
       "      <th>NumberOfTime60-89DaysPastDueNotWorse</th>\n",
       "      <th>NumberOfDependents</th>\n",
       "      <th>MonthlyIncome_sansna</th>\n",
       "      <th>Sum</th>\n",
       "      <th>IncomePerPerson</th>\n",
       "    </tr>\n",
       "  </thead>\n",
       "  <tbody>\n",
       "    <tr>\n",
       "      <th>128037</th>\n",
       "      <td>128037</td>\n",
       "      <td>128038</td>\n",
       "      <td>0</td>\n",
       "      <td>0.204151</td>\n",
       "      <td>53</td>\n",
       "      <td>0</td>\n",
       "      <td>0.436564</td>\n",
       "      <td>4271.0</td>\n",
       "      <td>7</td>\n",
       "      <td>0</td>\n",
       "      <td>1</td>\n",
       "      <td>1</td>\n",
       "      <td>0.0</td>\n",
       "      <td>4271.0</td>\n",
       "      <td>1</td>\n",
       "      <td>4271.000000</td>\n",
       "    </tr>\n",
       "    <tr>\n",
       "      <th>5192</th>\n",
       "      <td>5192</td>\n",
       "      <td>5193</td>\n",
       "      <td>0</td>\n",
       "      <td>0.441020</td>\n",
       "      <td>51</td>\n",
       "      <td>1</td>\n",
       "      <td>0.512074</td>\n",
       "      <td>6666.0</td>\n",
       "      <td>16</td>\n",
       "      <td>0</td>\n",
       "      <td>2</td>\n",
       "      <td>0</td>\n",
       "      <td>2.0</td>\n",
       "      <td>6666.0</td>\n",
       "      <td>1</td>\n",
       "      <td>2222.000000</td>\n",
       "    </tr>\n",
       "    <tr>\n",
       "      <th>50057</th>\n",
       "      <td>50057</td>\n",
       "      <td>50058</td>\n",
       "      <td>0</td>\n",
       "      <td>0.000000</td>\n",
       "      <td>42</td>\n",
       "      <td>0</td>\n",
       "      <td>0.347464</td>\n",
       "      <td>9600.0</td>\n",
       "      <td>8</td>\n",
       "      <td>0</td>\n",
       "      <td>2</td>\n",
       "      <td>0</td>\n",
       "      <td>2.0</td>\n",
       "      <td>9600.0</td>\n",
       "      <td>0</td>\n",
       "      <td>3200.000000</td>\n",
       "    </tr>\n",
       "    <tr>\n",
       "      <th>109259</th>\n",
       "      <td>109259</td>\n",
       "      <td>109260</td>\n",
       "      <td>0</td>\n",
       "      <td>0.196150</td>\n",
       "      <td>40</td>\n",
       "      <td>0</td>\n",
       "      <td>0.312737</td>\n",
       "      <td>5000.0</td>\n",
       "      <td>10</td>\n",
       "      <td>0</td>\n",
       "      <td>1</td>\n",
       "      <td>0</td>\n",
       "      <td>2.0</td>\n",
       "      <td>5000.0</td>\n",
       "      <td>0</td>\n",
       "      <td>1666.666667</td>\n",
       "    </tr>\n",
       "    <tr>\n",
       "      <th>73349</th>\n",
       "      <td>73349</td>\n",
       "      <td>73350</td>\n",
       "      <td>0</td>\n",
       "      <td>0.144183</td>\n",
       "      <td>56</td>\n",
       "      <td>0</td>\n",
       "      <td>2362.000000</td>\n",
       "      <td>NaN</td>\n",
       "      <td>5</td>\n",
       "      <td>0</td>\n",
       "      <td>1</td>\n",
       "      <td>0</td>\n",
       "      <td>1.0</td>\n",
       "      <td>0.0</td>\n",
       "      <td>0</td>\n",
       "      <td>NaN</td>\n",
       "    </tr>\n",
       "  </tbody>\n",
       "</table>\n",
       "</div>"
      ],
      "text/plain": [
       "        Unnamed: 0  Unnamed: 0.1  SeriousDlqin2yrs  \\\n",
       "128037      128037        128038                 0   \n",
       "5192          5192          5193                 0   \n",
       "50057        50057         50058                 0   \n",
       "109259      109259        109260                 0   \n",
       "73349        73349         73350                 0   \n",
       "\n",
       "        RevolvingUtilizationOfUnsecuredLines  age  \\\n",
       "128037                              0.204151   53   \n",
       "5192                                0.441020   51   \n",
       "50057                               0.000000   42   \n",
       "109259                              0.196150   40   \n",
       "73349                               0.144183   56   \n",
       "\n",
       "        NumberOfTime30-59DaysPastDueNotWorse    DebtRatio  MonthlyIncome  \\\n",
       "128037                                     0     0.436564         4271.0   \n",
       "5192                                       1     0.512074         6666.0   \n",
       "50057                                      0     0.347464         9600.0   \n",
       "109259                                     0     0.312737         5000.0   \n",
       "73349                                      0  2362.000000            NaN   \n",
       "\n",
       "        NumberOfOpenCreditLinesAndLoans  NumberOfTimes90DaysLate  \\\n",
       "128037                                7                        0   \n",
       "5192                                 16                        0   \n",
       "50057                                 8                        0   \n",
       "109259                               10                        0   \n",
       "73349                                 5                        0   \n",
       "\n",
       "        NumberRealEstateLoansOrLines  NumberOfTime60-89DaysPastDueNotWorse  \\\n",
       "128037                             1                                     1   \n",
       "5192                               2                                     0   \n",
       "50057                              2                                     0   \n",
       "109259                             1                                     0   \n",
       "73349                              1                                     0   \n",
       "\n",
       "        NumberOfDependents  MonthlyIncome_sansna  Sum  IncomePerPerson  \n",
       "128037                 0.0                4271.0    1      4271.000000  \n",
       "5192                   2.0                6666.0    1      2222.000000  \n",
       "50057                  2.0                9600.0    0      3200.000000  \n",
       "109259                 2.0                5000.0    0      1666.666667  \n",
       "73349                  1.0                   0.0    0              NaN  "
      ]
     },
     "execution_count": 21,
     "metadata": {},
     "output_type": "execute_result"
    }
   ],
   "source": [
    "df = read_csv('fulltrain_mod.csv').sample(frac=1, replace=True, random_state=1)\n",
    "df.head()"
   ]
  },
  {
   "cell_type": "code",
   "execution_count": 22,
   "metadata": {},
   "outputs": [],
   "source": [
    "df[-int(len(df)*20/100):].to_csv(\"191103 learning-curves_val.csv\")"
   ]
  },
  {
   "cell_type": "code",
   "execution_count": 23,
   "metadata": {},
   "outputs": [],
   "source": [
    "df_train = df[:-int(len(df)*20/100)]"
   ]
  },
  {
   "cell_type": "code",
   "execution_count": 24,
   "metadata": {},
   "outputs": [],
   "source": [
    "df_train[:int(len(df_train)*10/100)].to_csv(\"191103 learning-curves_train10.csv\")\n",
    "df_train[:int(len(df_train)*20/100)].to_csv(\"191103 learning-curves_train20.csv\")\n",
    "df_train[:int(len(df_train)*40/100)].to_csv(\"191103 learning-curves_train40.csv\")\n",
    "df_train[:int(len(df_train)*80/100)].to_csv(\"191103 learning-curves_train80.csv\")\n",
    "df_train.to_csv(\"191103 learning-curves_train.csv\")"
   ]
  },
  {
   "cell_type": "code",
   "execution_count": 27,
   "metadata": {},
   "outputs": [],
   "source": [
    "val_source = api.create_source('191103 learning-curves_val.csv', {\"name\": \"191103 learning-curves_val\", \"source_parser\": {\"missing_tokens\": [\"NULL\"]}})\n",
    "train_source = api.create_source('191103 learning-curves_train.csv', {\"name\": \"191103 learning-curves_train\", \"source_parser\": {\"missing_tokens\": [\"NULL\"]}})\n",
    "train10_source = api.create_source('191103 learning-curves_train10.csv', {\"name\": \"191103 learning-curves_train10\", \"source_parser\": {\"missing_tokens\": [\"NULL\"]}})\n",
    "train20_source = api.create_source('191103 learning-curves_train20.csv', {\"name\": \"191103 learning-curves_train20\", \"source_parser\": {\"missing_tokens\": [\"NULL\"]}})\n",
    "train40_source = api.create_source('191103 learning-curves_train40.csv', {\"name\": \"191103 learning-curves_train40\", \"source_parser\": {\"missing_tokens\": [\"NULL\"]}})\n",
    "train80_source = api.create_source('191103 learning-curves_train80.csv', {\"name\": \"191103 learning-curves_train80\", \"source_parser\": {\"missing_tokens\": [\"NULL\"]}})"
   ]
  },
  {
   "cell_type": "code",
   "execution_count": 29,
   "metadata": {},
   "outputs": [
    {
     "data": {
      "text/plain": [
       "True"
      ]
     },
     "execution_count": 29,
     "metadata": {},
     "output_type": "execute_result"
    }
   ],
   "source": [
    "val_dataset = api.create_dataset(val_source, {\"name\": \"191103 learning-curves_val\"})\n",
    "train_dataset = api.create_dataset(train_source, {\"name\": \"191103 learning-curves_train\"})\n",
    "api.ok(val_dataset)\n",
    "api.ok(train_dataset)\n",
    "train10_dataset = api.create_dataset(train10_source, {\"name\": \"191103 learning-curves_train10\"})\n",
    "train20_dataset = api.create_dataset(train20_source, {\"name\": \"191103 learning-curves_train20\"})\n",
    "api.ok(train10_dataset)\n",
    "api.ok(train20_dataset)\n",
    "train40_dataset = api.create_dataset(train40_source, {\"name\": \"191103 learning-curves_train40\"})\n",
    "train80_dataset = api.create_dataset(train80_source, {\"name\": \"191103 learning-curves_train80\"})\n",
    "api.ok(train40_dataset)\n",
    "api.ok(train80_dataset);"
   ]
  },
  {
   "cell_type": "code",
   "execution_count": 30,
   "metadata": {},
   "outputs": [],
   "source": [
    "model = api.create_ensemble(train_dataset, {\"objective_field\": \"SeriousDlqin2yrs\"})\n",
    "model10 = api.create_ensemble(train10_dataset, {\"objective_field\": \"SeriousDlqin2yrs\"})\n",
    "api.ok(model)\n",
    "api.ok(model10)\n",
    "model20 = api.create_ensemble(train20_dataset, {\"objective_field\": \"SeriousDlqin2yrs\"})\n",
    "model40 = api.create_ensemble(train40_dataset, {\"objective_field\": \"SeriousDlqin2yrs\"})\n",
    "api.ok(model20)\n",
    "api.ok(model40)\n",
    "model80 = api.create_ensemble(train80_dataset, {\"objective_field\": \"SeriousDlqin2yrs\"})\n",
    "api.ok(model80)\n",
    "\n",
    "model = api.get_ensemble(model)\n",
    "model10 = api.get_ensemble(model10)\n",
    "api.ok(model)\n",
    "api.ok(model10)\n",
    "model20 = api.get_ensemble(model20)\n",
    "model40 = api.get_ensemble(model40)\n",
    "api.ok(model20)\n",
    "api.ok(model40)\n",
    "model80 = api.get_ensemble(model80)"
   ]
  },
  {
   "cell_type": "code",
   "execution_count": 31,
   "metadata": {},
   "outputs": [
    {
     "data": {
      "text/plain": [
       "True"
      ]
     },
     "execution_count": 31,
     "metadata": {},
     "output_type": "execute_result"
    }
   ],
   "source": [
    "evaluation = api.create_evaluation(model, val_dataset, {\"name\": \"191103 learning-curves_train\"})\n",
    "evaluation10 = api.create_evaluation(model10, val_dataset, {\"name\": \"191103 learning-curves_train10\"})\n",
    "api.ok(evaluation)\n",
    "api.ok(evaluation10)\n",
    "evaluation20 = api.create_evaluation(model20, val_dataset, {\"name\": \"191103 learning-curves_train20\"})\n",
    "evaluation40 = api.create_evaluation(model40, val_dataset, {\"name\": \"191103 learning-curves_train40\"})\n",
    "api.ok(evaluation20)\n",
    "api.ok(evaluation40)\n",
    "evaluation80 = api.create_evaluation(model80, val_dataset, {\"name\": \"191103 learning-curves_train80\"})\n",
    "api.ok(evaluation80);"
   ]
  },
  {
   "cell_type": "code",
   "execution_count": 34,
   "metadata": {},
   "outputs": [],
   "source": [
    "auc = evaluation['object']['result']['model']['per_class_statistics'][0]['area_under_roc_curve']\n",
    "auc10 = evaluation10['object']['result']['model']['per_class_statistics'][0]['area_under_roc_curve']\n",
    "auc20 = evaluation20['object']['result']['model']['per_class_statistics'][0]['area_under_roc_curve']\n",
    "auc40 = evaluation40['object']['result']['model']['per_class_statistics'][0]['area_under_roc_curve']\n",
    "auc80 = evaluation80['object']['result']['model']['per_class_statistics'][0]['area_under_roc_curve']"
   ]
  },
  {
   "cell_type": "code",
   "execution_count": 41,
   "metadata": {},
   "outputs": [
    {
     "data": {
      "image/png": "[encoded data removed]",
      "text/plain": [
       "<Figure size 432x288 with 1 Axes>"
      ]
     },
     "metadata": {
      "needs_background": "light"
     },
     "output_type": "display_data"
    }
   ],
   "source": [
    "plt.plot([0, 10, 20, 40, 80, 100], [0, auc10, auc20, auc40, auc80, auc], 'b*-');"
   ]
  },
  {
   "cell_type": "code",
   "execution_count": null,
   "metadata": {},
   "outputs": [],
   "source": []
  }
 ],
 "metadata": {
  "kernelspec": {
   "display_name": "Python 3",
   "language": "python",
   "name": "python3"
  },
  "language_info": {
   "codemirror_mode": {
    "name": "ipython",
    "version": 3
   },
   "file_extension": ".py",
   "mimetype": "text/x-python",
   "name": "python",
   "nbconvert_exporter": "python",
   "pygments_lexer": "ipython3",
   "version": "3.7.1"
  }
 },
 "nbformat": 4,
 "nbformat_minor": 2
}
