{
 "cells": [
  {
   "cell_type": "code",
   "execution_count": 4,
   "metadata": {},
   "outputs": [],
   "source": [
    "from pandas import DataFrame, read_csv\n",
    "from bigml.api import BigML\n",
    "api = BigML(project=\"project/5d94a42042129f2b0500005c\")"
   ]
  },
  {
   "cell_type": "markdown",
   "metadata": {},
   "source": [
    "- Création de la source et dataset correspondant du fichier test sur le site bigml"
   ]
  },
  {
   "cell_type": "code",
   "execution_count": null,
   "metadata": {},
   "outputs": [],
   "source": [
    "source2_args = {\"name\": \"171007 test ipnb\",\n",
    "     \"source_parser\": {\"missing_tokens\": [\"NULL\"]}}\n",
    "source2 = api.create_source('test_mod.csv', source2_args)\n",
    "\n",
    "dataset2_args = {\"name\": \"171007 ipnb test\"}\n",
    "dataset2 = api.create_dataset(source2, dataset2_args)"
   ]
  },
  {
   "cell_type": "code",
   "execution_count": 7,
   "metadata": {},
   "outputs": [],
   "source": [
    "dataset2 = api.get_dataset('dataset/5db162dee476847468009156')"
   ]
  },
  {
   "cell_type": "markdown",
   "metadata": {},
   "source": [
    "- Génération de la prédiction sur test"
   ]
  },
  {
   "cell_type": "code",
   "execution_count": null,
   "metadata": {},
   "outputs": [],
   "source": [
    "prediction_args = {\"name\": \"171007 ipnb - Train (80%) - Prediction\",\n",
    "                  \"header\": True,\n",
    "                  \"probabilities\": True,\n",
    "                  \"output_fields\": [\"field1\"]}\n",
    "\n",
    "batch_prediction = api.create_batch_prediction(model, dataset2, prediction_args)"
   ]
  },
  {
   "cell_type": "code",
   "execution_count": null,
   "metadata": {},
   "outputs": [],
   "source": [
    "api.ok(batch_prediction)"
   ]
  },
  {
   "cell_type": "code",
   "execution_count": null,
   "metadata": {},
   "outputs": [],
   "source": [
    "api.download_batch_prediction(batch_prediction,\n",
    "                              filename= \"171007 ipnb 80% - test prediction.csv\")"
   ]
  },
  {
   "cell_type": "markdown",
   "metadata": {},
   "source": [
    "- Importation du fichier généré à l'étape précédente"
   ]
  },
  {
   "cell_type": "code",
   "execution_count": 37,
   "metadata": {},
   "outputs": [
    {
     "data": {
      "text/html": [
       "<div>\n",
       "<style scoped>\n",
       "    .dataframe tbody tr th:only-of-type {\n",
       "        vertical-align: middle;\n",
       "    }\n",
       "\n",
       "    .dataframe tbody tr th {\n",
       "        vertical-align: top;\n",
       "    }\n",
       "\n",
       "    .dataframe thead th {\n",
       "        text-align: right;\n",
       "    }\n",
       "</style>\n",
       "<table border=\"1\" class=\"dataframe\">\n",
       "  <thead>\n",
       "    <tr style=\"text-align: right;\">\n",
       "      <th></th>\n",
       "      <th>field1</th>\n",
       "      <th>SeriousDlqin2yrs</th>\n",
       "      <th>0 probability</th>\n",
       "      <th>1 probability</th>\n",
       "    </tr>\n",
       "  </thead>\n",
       "  <tbody>\n",
       "    <tr>\n",
       "      <td>0</td>\n",
       "      <td>0</td>\n",
       "      <td>0</td>\n",
       "      <td>0.94218</td>\n",
       "      <td>0.05782</td>\n",
       "    </tr>\n",
       "    <tr>\n",
       "      <td>1</td>\n",
       "      <td>1</td>\n",
       "      <td>0</td>\n",
       "      <td>0.95594</td>\n",
       "      <td>0.04406</td>\n",
       "    </tr>\n",
       "    <tr>\n",
       "      <td>2</td>\n",
       "      <td>2</td>\n",
       "      <td>0</td>\n",
       "      <td>0.98942</td>\n",
       "      <td>0.01058</td>\n",
       "    </tr>\n",
       "    <tr>\n",
       "      <td>3</td>\n",
       "      <td>3</td>\n",
       "      <td>0</td>\n",
       "      <td>0.95748</td>\n",
       "      <td>0.04252</td>\n",
       "    </tr>\n",
       "    <tr>\n",
       "      <td>4</td>\n",
       "      <td>4</td>\n",
       "      <td>0</td>\n",
       "      <td>0.91365</td>\n",
       "      <td>0.08635</td>\n",
       "    </tr>\n",
       "    <tr>\n",
       "      <td>...</td>\n",
       "      <td>...</td>\n",
       "      <td>...</td>\n",
       "      <td>...</td>\n",
       "      <td>...</td>\n",
       "    </tr>\n",
       "    <tr>\n",
       "      <td>101498</td>\n",
       "      <td>101498</td>\n",
       "      <td>0</td>\n",
       "      <td>0.97996</td>\n",
       "      <td>0.02004</td>\n",
       "    </tr>\n",
       "    <tr>\n",
       "      <td>101499</td>\n",
       "      <td>101499</td>\n",
       "      <td>0</td>\n",
       "      <td>0.60409</td>\n",
       "      <td>0.39591</td>\n",
       "    </tr>\n",
       "    <tr>\n",
       "      <td>101500</td>\n",
       "      <td>101500</td>\n",
       "      <td>0</td>\n",
       "      <td>0.99691</td>\n",
       "      <td>0.00309</td>\n",
       "    </tr>\n",
       "    <tr>\n",
       "      <td>101501</td>\n",
       "      <td>101501</td>\n",
       "      <td>0</td>\n",
       "      <td>0.90697</td>\n",
       "      <td>0.09303</td>\n",
       "    </tr>\n",
       "    <tr>\n",
       "      <td>101502</td>\n",
       "      <td>101502</td>\n",
       "      <td>0</td>\n",
       "      <td>0.94017</td>\n",
       "      <td>0.05983</td>\n",
       "    </tr>\n",
       "  </tbody>\n",
       "</table>\n",
       "<p>101503 rows × 4 columns</p>\n",
       "</div>"
      ],
      "text/plain": [
       "        field1  SeriousDlqin2yrs  0 probability  1 probability\n",
       "0            0                 0        0.94218        0.05782\n",
       "1            1                 0        0.95594        0.04406\n",
       "2            2                 0        0.98942        0.01058\n",
       "3            3                 0        0.95748        0.04252\n",
       "4            4                 0        0.91365        0.08635\n",
       "...        ...               ...            ...            ...\n",
       "101498  101498                 0        0.97996        0.02004\n",
       "101499  101499                 0        0.60409        0.39591\n",
       "101500  101500                 0        0.99691        0.00309\n",
       "101501  101501                 0        0.90697        0.09303\n",
       "101502  101502                 0        0.94017        0.05983\n",
       "\n",
       "[101503 rows x 4 columns]"
      ]
     },
     "execution_count": 37,
     "metadata": {},
     "output_type": "execute_result"
    }
   ],
   "source": [
    "df3 = read_csv('171007 ipnb 80% - test prediction.csv')\n",
    "df3"
   ]
  },
  {
   "cell_type": "markdown",
   "metadata": {},
   "source": [
    "- Mise au format attendu par kaggle (2 colonnes)"
   ]
  },
  {
   "cell_type": "code",
   "execution_count": 38,
   "metadata": {},
   "outputs": [
    {
     "data": {
      "text/html": [
       "<div>\n",
       "<style scoped>\n",
       "    .dataframe tbody tr th:only-of-type {\n",
       "        vertical-align: middle;\n",
       "    }\n",
       "\n",
       "    .dataframe tbody tr th {\n",
       "        vertical-align: top;\n",
       "    }\n",
       "\n",
       "    .dataframe thead th {\n",
       "        text-align: right;\n",
       "    }\n",
       "</style>\n",
       "<table border=\"1\" class=\"dataframe\">\n",
       "  <thead>\n",
       "    <tr style=\"text-align: right;\">\n",
       "      <th></th>\n",
       "      <th>Id</th>\n",
       "      <th>Probability</th>\n",
       "    </tr>\n",
       "  </thead>\n",
       "  <tbody>\n",
       "    <tr>\n",
       "      <td>0</td>\n",
       "      <td>0</td>\n",
       "      <td>0.05782</td>\n",
       "    </tr>\n",
       "    <tr>\n",
       "      <td>1</td>\n",
       "      <td>1</td>\n",
       "      <td>0.04406</td>\n",
       "    </tr>\n",
       "    <tr>\n",
       "      <td>2</td>\n",
       "      <td>2</td>\n",
       "      <td>0.01058</td>\n",
       "    </tr>\n",
       "    <tr>\n",
       "      <td>3</td>\n",
       "      <td>3</td>\n",
       "      <td>0.04252</td>\n",
       "    </tr>\n",
       "    <tr>\n",
       "      <td>4</td>\n",
       "      <td>4</td>\n",
       "      <td>0.08635</td>\n",
       "    </tr>\n",
       "    <tr>\n",
       "      <td>...</td>\n",
       "      <td>...</td>\n",
       "      <td>...</td>\n",
       "    </tr>\n",
       "    <tr>\n",
       "      <td>101498</td>\n",
       "      <td>101498</td>\n",
       "      <td>0.02004</td>\n",
       "    </tr>\n",
       "    <tr>\n",
       "      <td>101499</td>\n",
       "      <td>101499</td>\n",
       "      <td>0.39591</td>\n",
       "    </tr>\n",
       "    <tr>\n",
       "      <td>101500</td>\n",
       "      <td>101500</td>\n",
       "      <td>0.00309</td>\n",
       "    </tr>\n",
       "    <tr>\n",
       "      <td>101501</td>\n",
       "      <td>101501</td>\n",
       "      <td>0.09303</td>\n",
       "    </tr>\n",
       "    <tr>\n",
       "      <td>101502</td>\n",
       "      <td>101502</td>\n",
       "      <td>0.05983</td>\n",
       "    </tr>\n",
       "  </tbody>\n",
       "</table>\n",
       "<p>101503 rows × 2 columns</p>\n",
       "</div>"
      ],
      "text/plain": [
       "            Id  Probability\n",
       "0            0      0.05782\n",
       "1            1      0.04406\n",
       "2            2      0.01058\n",
       "3            3      0.04252\n",
       "4            4      0.08635\n",
       "...        ...          ...\n",
       "101498  101498      0.02004\n",
       "101499  101499      0.39591\n",
       "101500  101500      0.00309\n",
       "101501  101501      0.09303\n",
       "101502  101502      0.05983\n",
       "\n",
       "[101503 rows x 2 columns]"
      ]
     },
     "execution_count": 38,
     "metadata": {},
     "output_type": "execute_result"
    }
   ],
   "source": [
    "df3.drop(df3.columns[1:3], axis=1, inplace=True)\n",
    "df3.rename(columns={\"field1\": \"Id\", \"1 probability\": \"Probability\"}, inplace=True)\n",
    "df3"
   ]
  },
  {
   "cell_type": "code",
   "execution_count": 39,
   "metadata": {},
   "outputs": [
    {
     "data": {
      "text/html": [
       "<div>\n",
       "<style scoped>\n",
       "    .dataframe tbody tr th:only-of-type {\n",
       "        vertical-align: middle;\n",
       "    }\n",
       "\n",
       "    .dataframe tbody tr th {\n",
       "        vertical-align: top;\n",
       "    }\n",
       "\n",
       "    .dataframe thead th {\n",
       "        text-align: right;\n",
       "    }\n",
       "</style>\n",
       "<table border=\"1\" class=\"dataframe\">\n",
       "  <thead>\n",
       "    <tr style=\"text-align: right;\">\n",
       "      <th></th>\n",
       "      <th>Id</th>\n",
       "      <th>Probability</th>\n",
       "    </tr>\n",
       "  </thead>\n",
       "  <tbody>\n",
       "    <tr>\n",
       "      <td>0</td>\n",
       "      <td>1</td>\n",
       "      <td>0.05782</td>\n",
       "    </tr>\n",
       "    <tr>\n",
       "      <td>1</td>\n",
       "      <td>2</td>\n",
       "      <td>0.04406</td>\n",
       "    </tr>\n",
       "    <tr>\n",
       "      <td>2</td>\n",
       "      <td>3</td>\n",
       "      <td>0.01058</td>\n",
       "    </tr>\n",
       "    <tr>\n",
       "      <td>3</td>\n",
       "      <td>4</td>\n",
       "      <td>0.04252</td>\n",
       "    </tr>\n",
       "    <tr>\n",
       "      <td>4</td>\n",
       "      <td>5</td>\n",
       "      <td>0.08635</td>\n",
       "    </tr>\n",
       "    <tr>\n",
       "      <td>...</td>\n",
       "      <td>...</td>\n",
       "      <td>...</td>\n",
       "    </tr>\n",
       "    <tr>\n",
       "      <td>101498</td>\n",
       "      <td>101499</td>\n",
       "      <td>0.02004</td>\n",
       "    </tr>\n",
       "    <tr>\n",
       "      <td>101499</td>\n",
       "      <td>101500</td>\n",
       "      <td>0.39591</td>\n",
       "    </tr>\n",
       "    <tr>\n",
       "      <td>101500</td>\n",
       "      <td>101501</td>\n",
       "      <td>0.00309</td>\n",
       "    </tr>\n",
       "    <tr>\n",
       "      <td>101501</td>\n",
       "      <td>101502</td>\n",
       "      <td>0.09303</td>\n",
       "    </tr>\n",
       "    <tr>\n",
       "      <td>101502</td>\n",
       "      <td>101503</td>\n",
       "      <td>0.05983</td>\n",
       "    </tr>\n",
       "  </tbody>\n",
       "</table>\n",
       "<p>101503 rows × 2 columns</p>\n",
       "</div>"
      ],
      "text/plain": [
       "            Id  Probability\n",
       "0            1      0.05782\n",
       "1            2      0.04406\n",
       "2            3      0.01058\n",
       "3            4      0.04252\n",
       "4            5      0.08635\n",
       "...        ...          ...\n",
       "101498  101499      0.02004\n",
       "101499  101500      0.39591\n",
       "101500  101501      0.00309\n",
       "101501  101502      0.09303\n",
       "101502  101503      0.05983\n",
       "\n",
       "[101503 rows x 2 columns]"
      ]
     },
     "execution_count": 39,
     "metadata": {},
     "output_type": "execute_result"
    }
   ],
   "source": [
    "df3[['Id']] = df3[['Id']] + 1\n",
    "df3"
   ]
  },
  {
   "cell_type": "markdown",
   "metadata": {},
   "source": [
    "- Exportation du fichier de résultat"
   ]
  },
  {
   "cell_type": "code",
   "execution_count": 40,
   "metadata": {},
   "outputs": [],
   "source": [
    "df3.to_csv('171001 ipnb for kag.csv', index=False)"
   ]
  },
  {
   "cell_type": "markdown",
   "metadata": {},
   "source": [
    "- Envoi du fichier final"
   ]
  },
  {
   "cell_type": "code",
   "execution_count": 9,
   "metadata": {},
   "outputs": [],
   "source": [
    "import kaggle"
   ]
  },
  {
   "cell_type": "code",
   "execution_count": 2,
   "metadata": {},
   "outputs": [
    {
     "name": "stderr",
     "output_type": "stream",
     "text": [
      "100%|██████████| 1.64M/1.64M [00:06<00:00, 271kB/s] \n"
     ]
    },
    {
     "data": {
      "text/plain": [
       "Successfully submitted to Give Me Some Credit"
      ]
     },
     "execution_count": 2,
     "metadata": {},
     "output_type": "execute_result"
    }
   ],
   "source": [
    "submission_file = \"171001 ipnb for kag.csv\"\n",
    "kaggle.api.competition_submit(submission_file, \"171001 ipnb ensemble\", \"GiveMeSomeCredit\")"
   ]
  },
  {
   "cell_type": "markdown",
   "metadata": {},
   "source": [
    "- Récupération du score"
   ]
  },
  {
   "cell_type": "code",
   "execution_count": 12,
   "metadata": {},
   "outputs": [
    {
     "data": {
      "text/plain": [
       "[{'ref': 12977370,\n",
       "  'totalBytes': 1720383,\n",
       "  'date': '2019-10-24T09:22:42.343Z',\n",
       "  'description': '171001 ipnb ensemble',\n",
       "  'errorDescription': None,\n",
       "  'fileName': '171001 ipnb for kag.csv',\n",
       "  'publicScore': '0.85508',\n",
       "  'privateScore': '0.86239',\n",
       "  'status': 'complete',\n",
       "  'submittedBy': 'laurent33',\n",
       "  'submittedByRef': 'laurent33',\n",
       "  'teamName': 'laurent33',\n",
       "  'type': 'standard',\n",
       "  'url': 'https://www.kaggle.com/submissions/12977370/12977370.raw'},\n",
       " {'ref': 12715144,\n",
       "  'totalBytes': 403828,\n",
       "  'date': '2019-10-04T15:01:55.733Z',\n",
       "  'description': 'vb OptiML 2',\n",
       "  'errorDescription': None,\n",
       "  'fileName': 'VB OPTIML 2 Clean.zip',\n",
       "  'publicScore': '0.86000',\n",
       "  'privateScore': '0.86576',\n",
       "  'status': 'complete',\n",
       "  'submittedBy': 'laurent33',\n",
       "  'submittedByRef': 'laurent33',\n",
       "  'teamName': 'laurent33',\n",
       "  'type': 'standard',\n",
       "  'url': 'https://www.kaggle.com/submissions/12715144/12715144.raw'},\n",
       " {'ref': 12714865,\n",
       "  'totalBytes': 400610,\n",
       "  'date': '2019-10-04T14:29:41.37Z',\n",
       "  'description': 'M6 vc',\n",
       "  'errorDescription': None,\n",
       "  'fileName': 'M6 vc - kagout.zip',\n",
       "  'publicScore': '0.85492',\n",
       "  'privateScore': '0.86133',\n",
       "  'status': 'complete',\n",
       "  'submittedBy': 'laurent33',\n",
       "  'submittedByRef': 'laurent33',\n",
       "  'teamName': 'laurent33',\n",
       "  'type': 'standard',\n",
       "  'url': 'https://www.kaggle.com/submissions/12714865/12714865.raw'},\n",
       " {'ref': 12714790,\n",
       "  'totalBytes': 403873,\n",
       "  'date': '2019-10-04T14:21:53.513Z',\n",
       "  'description': 'M5 vb optiml',\n",
       "  'errorDescription': None,\n",
       "  'fileName': 'M5 vb optiml - kaggleout.zip',\n",
       "  'publicScore': '0.85996',\n",
       "  'privateScore': '0.86571',\n",
       "  'status': 'complete',\n",
       "  'submittedBy': 'laurent33',\n",
       "  'submittedByRef': 'laurent33',\n",
       "  'teamName': 'laurent33',\n",
       "  'type': 'standard',\n",
       "  'url': 'https://www.kaggle.com/submissions/12714790/12714790.raw'},\n",
       " {'ref': 12713979,\n",
       "  'totalBytes': 400756,\n",
       "  'date': '2019-10-04T12:56:15.2Z',\n",
       "  'description': 'M4 vb',\n",
       "  'errorDescription': None,\n",
       "  'fileName': 'M4 vb kagout.zip',\n",
       "  'publicScore': '0.86057',\n",
       "  'privateScore': '0.86458',\n",
       "  'status': 'complete',\n",
       "  'submittedBy': 'laurent33',\n",
       "  'submittedByRef': 'laurent33',\n",
       "  'teamName': 'laurent33',\n",
       "  'type': 'standard',\n",
       "  'url': 'https://www.kaggle.com/submissions/12713979/12713979.raw'},\n",
       " {'ref': 12713464,\n",
       "  'totalBytes': 399662,\n",
       "  'date': '2019-10-04T11:57:17.59Z',\n",
       "  'description': 'Custom Feature set 4 from Medhi',\n",
       "  'errorDescription': None,\n",
       "  'fileName': 'M4 kag out - 1.zip',\n",
       "  'publicScore': '0.85854',\n",
       "  'privateScore': '0.86337',\n",
       "  'status': 'complete',\n",
       "  'submittedBy': 'laurent33',\n",
       "  'submittedByRef': 'laurent33',\n",
       "  'teamName': 'laurent33',\n",
       "  'type': 'standard',\n",
       "  'url': 'https://www.kaggle.com/submissions/12713464/12713464.raw'},\n",
       " {'ref': 12713378,\n",
       "  'totalBytes': 1704290,\n",
       "  'date': '2019-10-04T11:47:29.733Z',\n",
       "  'description': 'Custom features V4 from Medhi',\n",
       "  'errorDescription': \"ERROR: The value '5634' is not in the required set of values 'Predicted Probability = [0, 1]' (Line 2, Column 3)\\nERROR: The value '5201' is not in the required set of values 'Predicted Probability = [0, 1]' (Line 3, Column 3)\\nERROR: The value '123' is not in the required set of values 'Predicted Probability = [0, 1]' (Line 4, Column 3)\\nERROR: The value '5801' is not in the required set of values 'Predicted Probability = [0, 1]' (Line 5, Column 3)\\nERROR: The value '13024' is not in the required set of values 'Predicted Probability = [0, 1]' (Line 6, Column 3)\\nERROR: The value '3293' is not in the required set of values 'Predicted Probability = [0, 1]' (Line 7, Column 3)\\nERROR: The value '517' is not in the required set of values 'Predicted Probability = [0, 1]' (Line 8, Column 3)\\nERROR: The value '2455' is not in the required set of values 'Predicted Probability = [0, 1]' (Line 9, Column 3)\\nERROR: The value '316' is not in the required set of values 'Predicted Probability = [0, 1]' (Line 10, Column 3)\\nERROR: The value '52962' is not in the required set of values 'Predicted Probability = [0, 1]' (Line 11, Column 4)\\n\",\n",
       "  'fileName': 'M4 kag out - 1.csv',\n",
       "  'publicScore': None,\n",
       "  'privateScore': None,\n",
       "  'status': 'error',\n",
       "  'submittedBy': 'laurent33',\n",
       "  'submittedByRef': 'laurent33',\n",
       "  'teamName': 'laurent33',\n",
       "  'type': 'standard',\n",
       "  'url': 'https://www.kaggle.com/submissions/12713378/12713378.raw'},\n",
       " {'ref': 12712823,\n",
       "  'totalBytes': 331457,\n",
       "  'date': '2019-10-04T10:42:05.31Z',\n",
       "  'description': 'M4 enhanced',\n",
       "  'errorDescription': \"ERROR: The value '5634' is not in the required set of values 'Predicted Probability = [0, 1]' (Line 2, Column 3)\\nERROR: The value '5201' is not in the required set of values 'Predicted Probability = [0, 1]' (Line 3, Column 3)\\nERROR: The value '123' is not in the required set of values 'Predicted Probability = [0, 1]' (Line 4, Column 3)\\nERROR: The value '5801' is not in the required set of values 'Predicted Probability = [0, 1]' (Line 5, Column 3)\\nERROR: The value '13024' is not in the required set of values 'Predicted Probability = [0, 1]' (Line 6, Column 3)\\nERROR: The value '3293' is not in the required set of values 'Predicted Probability = [0, 1]' (Line 7, Column 3)\\nERROR: The value '517' is not in the required set of values 'Predicted Probability = [0, 1]' (Line 8, Column 3)\\nERROR: The value '2455' is not in the required set of values 'Predicted Probability = [0, 1]' (Line 9, Column 3)\\nERROR: The value '316' is not in the required set of values 'Predicted Probability = [0, 1]' (Line 10, Column 3)\\nERROR: The value '52962' is not in the required set of values 'Predicted Probability = [0, 1]' (Line 11, Column 4)\\n\",\n",
       "  'fileName': '191004 test M enhanced - Kaggle out.7z',\n",
       "  'publicScore': None,\n",
       "  'privateScore': None,\n",
       "  'status': 'error',\n",
       "  'submittedBy': 'laurent33',\n",
       "  'submittedByRef': 'laurent33',\n",
       "  'teamName': 'laurent33',\n",
       "  'type': 'standard',\n",
       "  'url': 'https://www.kaggle.com/submissions/12712823/12712823.raw'}]"
      ]
     },
     "execution_count": 12,
     "metadata": {},
     "output_type": "execute_result"
    }
   ],
   "source": [
    "kaggle.api.competitions_submissions_list(\"GiveMeSomeCredit\")"
   ]
  },
  {
   "cell_type": "code",
   "execution_count": null,
   "metadata": {},
   "outputs": [],
   "source": []
  }
 ],
 "metadata": {
  "kernelspec": {
   "display_name": "Python 3",
   "language": "python",
   "name": "python3"
  },
  "language_info": {
   "codemirror_mode": {
    "name": "ipython",
    "version": 3
   },
   "file_extension": ".py",
   "mimetype": "text/x-python",
   "name": "python",
   "nbconvert_exporter": "python",
   "pygments_lexer": "ipython3",
   "version": "3.7.3"
  }
 },
 "nbformat": 4,
 "nbformat_minor": 2
}
